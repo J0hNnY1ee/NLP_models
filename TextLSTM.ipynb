{
 "cells": [
  {
   "cell_type": "code",
   "execution_count": 9,
   "metadata": {},
   "outputs": [],
   "source": [
    "import numpy as np\n",
    "\n",
    "\n",
    "def make_batch(seq_data, word_dict, n_class):\n",
    "    input_batch, target_batch = [], []\n",
    "\n",
    "    for seq in seq_data:\n",
    "        input = [word_dict[n] for n in seq[:-1]]  # 'm', 'a' , 'k' is input\n",
    "        target = word_dict[seq[-1]]  # 'e' is target\n",
    "        input_batch.append(np.eye(n_class)[input])\n",
    "        target_batch.append(target)\n",
    "\n",
    "    return input_batch, target_batch"
   ]
  },
  {
   "cell_type": "code",
   "execution_count": 10,
   "metadata": {},
   "outputs": [],
   "source": [
    "import torch\n",
    "import torch.nn as nn\n",
    "\n",
    "\n",
    "class TextLSTM(nn.Module):\n",
    "    def __init__(self, input_size, n_hidden, n_class):\n",
    "        super(TextLSTM, self).__init__()\n",
    "        self.lstm = nn.LSTM(input_size, n_hidden, batch_first=False)\n",
    "        self.W = nn.Linear(n_hidden, n_class)\n",
    "        self.b = nn.Parameter(torch.zeros(n_class))\n",
    "        self.n_hidden = n_hidden\n",
    "\n",
    "    def forward(self, X):\n",
    "        input = X.transpose(0, 1)\n",
    "        hidden_state = torch.zeros(1, len(X), self.n_hidden)\n",
    "        cell_state = torch.zeros(1, len(X), self.n_hidden)\n",
    "\n",
    "        outputs, (hidden_state, cell_state) = self.lstm(\n",
    "            input, (hidden_state, cell_state)\n",
    "        )\n",
    "        outputs = outputs[-1]\n",
    "        outputs = self.W(outputs) + self.b\n",
    "        return outputs"
   ]
  },
  {
   "cell_type": "code",
   "execution_count": 11,
   "metadata": {},
   "outputs": [
    {
     "name": "stderr",
     "output_type": "stream",
     "text": [
      "/tmp/ipykernel_3100812/2861800950.py:20: UserWarning: Creating a tensor from a list of numpy.ndarrays is extremely slow. Please consider converting the list to a single numpy.ndarray with numpy.array() before converting to a tensor. (Triggered internally at /pytorch/torch/csrc/utils/tensor_new.cpp:254.)\n",
      "  input_batch = torch.FloatTensor(input_batch)\n"
     ]
    },
    {
     "name": "stdout",
     "output_type": "stream",
     "text": [
      "Epoch: 0100 cost = 0.539015\n",
      "Epoch: 0200 cost = 0.041550\n",
      "Epoch: 0300 cost = 0.011508\n",
      "Epoch: 0400 cost = 0.005084\n",
      "Epoch: 0500 cost = 0.002877\n",
      "Epoch: 0600 cost = 0.001862\n",
      "Epoch: 0700 cost = 0.001307\n",
      "Epoch: 0800 cost = 0.000970\n",
      "Epoch: 0900 cost = 0.000750\n",
      "Epoch: 1000 cost = 0.000598\n",
      "['mak', 'nee', 'coa', 'wor', 'lov', 'hat', 'liv', 'hom', 'has', 'sta'] -> ['e', 'd', 'l', 'd', 'e', 'e', 'e', 'e', 'h', 'r']\n"
     ]
    }
   ],
   "source": [
    "import torch.optim as optim\n",
    "\n",
    "if __name__ == '__main__':\n",
    "    n_step = 3 # number of cells(= number of Step)\n",
    "    n_hidden = 128 # number of hidden units in one cell\n",
    "\n",
    "    char_arr = [c for c in 'abcdefghijklmnopqrstuvwxyz']\n",
    "    word_dict = {n: i for i, n in enumerate(char_arr)}\n",
    "    number_dict = {i: w for i, w in enumerate(char_arr)}\n",
    "    n_class = len(word_dict)  # number of class(=number of vocab)\n",
    "\n",
    "    seq_data = ['make', 'need', 'coal', 'word', 'love', 'hate', 'live', 'home', 'hash', 'star']\n",
    "\n",
    "    model = TextLSTM(input_size=n_class, n_hidden=n_hidden, n_class=n_class)\n",
    "\n",
    "    criterion = nn.CrossEntropyLoss()\n",
    "    optimizer = optim.Adam(model.parameters(), lr=0.001)\n",
    "\n",
    "    input_batch, target_batch = make_batch(seq_data,word_dict,n_class)\n",
    "    input_batch = torch.FloatTensor(input_batch)\n",
    "    target_batch = torch.LongTensor(target_batch)\n",
    "\n",
    "    # Training\n",
    "    for epoch in range(1000):\n",
    "        optimizer.zero_grad()\n",
    "\n",
    "        output = model(input_batch)\n",
    "        loss = criterion(output, target_batch)\n",
    "        if (epoch + 1) % 100 == 0:\n",
    "            print('Epoch:', '%04d' % (epoch + 1), 'cost =', '{:.6f}'.format(loss))\n",
    "\n",
    "        loss.backward()\n",
    "        optimizer.step()\n",
    "\n",
    "    inputs = [sen[:3] for sen in seq_data]\n",
    "\n",
    "    predict = model(input_batch).data.max(1, keepdim=True)[1]\n",
    "    print(inputs, '->', [number_dict[n.item()] for n in predict.squeeze()])"
   ]
  }
 ],
 "metadata": {
  "kernelspec": {
   "display_name": "NLP",
   "language": "python",
   "name": "python3"
  },
  "language_info": {
   "codemirror_mode": {
    "name": "ipython",
    "version": 3
   },
   "file_extension": ".py",
   "mimetype": "text/x-python",
   "name": "python",
   "nbconvert_exporter": "python",
   "pygments_lexer": "ipython3",
   "version": "3.11.11"
  }
 },
 "nbformat": 4,
 "nbformat_minor": 2
}
